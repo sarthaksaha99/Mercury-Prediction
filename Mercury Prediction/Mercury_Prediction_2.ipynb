{
  "cells": [
    {
      "cell_type": "markdown",
      "metadata": {
        "id": "VFZylfTcQuL-"
      },
      "source": [
        "#Data Ready & Basic Analysis:"
      ]
    },
    {
      "cell_type": "code",
      "execution_count": null,
      "metadata": {
        "id": "8guPoeve2KpD"
      },
      "outputs": [],
      "source": [
        "# Import the numpy and pandas package\n",
        "import warnings\n",
        "warnings.filterwarnings('ignore')\n",
        "import numpy as np\n",
        "import pandas as pd\n",
        "\n",
        "# Data Visualisation\n",
        "import matplotlib.pyplot as plt \n",
        "import seaborn as sns"
      ]
    },
    {
      "cell_type": "code",
      "execution_count": null,
      "metadata": {
        "id": "hKI5o7dO3rNB"
      },
      "outputs": [],
      "source": [
        "#To load dataset in google colab from github\n",
        "df1 = pd.read_csv(\"Mercury_Predictions_1.csv\")"
      ]
    },
    {
      "cell_type": "code",
      "execution_count": null,
      "metadata": {
        "colab": {
          "base_uri": "https://localhost:8080/",
          "height": 206
        },
        "id": "H-bno7LU32Xh",
        "outputId": "508b24b9-4b45-4aff-cafb-455c392b5bcc"
      },
      "outputs": [],
      "source": [
        "df1.head(5)"
      ]
    },
    {
      "cell_type": "code",
      "execution_count": null,
      "metadata": {
        "id": "fnwvagSc33uA"
      },
      "outputs": [],
      "source": [
        "\n",
        "df2 = pd.read_csv(\"Mercury_Predictions_2.csv\")"
      ]
    },
    {
      "cell_type": "code",
      "execution_count": null,
      "metadata": {
        "colab": {
          "base_uri": "https://localhost:8080/",
          "height": 206
        },
        "id": "uFIf98xP35OH",
        "outputId": "44e1475f-7175-4745-ae75-187ef9e7ff52"
      },
      "outputs": [],
      "source": [
        "df2.head(5)"
      ]
    },
    {
      "cell_type": "code",
      "execution_count": null,
      "metadata": {
        "colab": {
          "base_uri": "https://localhost:8080/"
        },
        "id": "L9j94ctp36b2",
        "outputId": "a5dbf2c1-da61-442f-fdd1-c1cf5d28ec8f"
      },
      "outputs": [],
      "source": [
        "df1.dtypes"
      ]
    },
    {
      "cell_type": "code",
      "execution_count": null,
      "metadata": {
        "colab": {
          "base_uri": "https://localhost:8080/"
        },
        "id": "8fd7T4L139Bo",
        "outputId": "32c54c33-9e98-4f37-cd47-c422ba4b6a42"
      },
      "outputs": [],
      "source": [
        "df2.dtypes"
      ]
    },
    {
      "cell_type": "code",
      "execution_count": null,
      "metadata": {
        "colab": {
          "base_uri": "https://localhost:8080/",
          "height": 322
        },
        "id": "fGUUisVH3-LN",
        "outputId": "b5ab5503-6205-48c2-ac78-b550cebe0891"
      },
      "outputs": [],
      "source": [
        "#For joining two datasets\n",
        "df3 = pd.merge(df1, df2)\n",
        "df3.head(5)"
      ]
    },
    {
      "cell_type": "code",
      "execution_count": null,
      "metadata": {
        "colab": {
          "base_uri": "https://localhost:8080/"
        },
        "id": "BGcxgfN24Azb",
        "outputId": "db965b1d-01b8-4163-ac30-7f26ff4f061d"
      },
      "outputs": [],
      "source": [
        "df3.shape"
      ]
    },
    {
      "cell_type": "code",
      "execution_count": null,
      "metadata": {
        "colab": {
          "base_uri": "https://localhost:8080/"
        },
        "id": "RVFDFd9J4JCE",
        "outputId": "bc441b0d-e7e9-48c3-b10b-453273c14c4f"
      },
      "outputs": [],
      "source": [
        "#Attribute length\n",
        "len(set(df3))"
      ]
    },
    {
      "cell_type": "code",
      "execution_count": null,
      "metadata": {
        "colab": {
          "base_uri": "https://localhost:8080/",
          "height": 382
        },
        "id": "BGn8o3RFQ9XH",
        "outputId": "9ec4485f-5347-42c0-d492-74a2814e1ae9"
      },
      "outputs": [],
      "source": [
        "df3.describe()"
      ]
    },
    {
      "cell_type": "code",
      "execution_count": null,
      "metadata": {
        "colab": {
          "base_uri": "https://localhost:8080/"
        },
        "id": "JSgyrr4aQ9aj",
        "outputId": "8e3deb5d-f01f-4bbb-f81d-a93e14709e6f"
      },
      "outputs": [],
      "source": [
        "df3.info()"
      ]
    },
    {
      "cell_type": "code",
      "execution_count": null,
      "metadata": {
        "id": "cLoencwW4LWb"
      },
      "outputs": [],
      "source": [
        "data = df3[['Reservoir', 'Mercury']]"
      ]
    },
    {
      "cell_type": "code",
      "execution_count": null,
      "metadata": {
        "colab": {
          "base_uri": "https://localhost:8080/",
          "height": 410
        },
        "id": "SW-lwC1f4LY5",
        "outputId": "d9f0eaa9-e875-48d8-be77-4ab262665b78"
      },
      "outputs": [],
      "source": [
        "plt.figure(figsize = (10, 6))\n",
        "plt.plot(data['Mercury'])\n",
        "plt.title('Mercury level among Fish')\n",
        "plt.ylabel('Mercury')\n",
        "plt.xlabel('Reservoir')\n",
        "plt.show()"
      ]
    },
    {
      "cell_type": "markdown",
      "metadata": {
        "id": "yg5poZbUP3k5"
      },
      "source": [
        "# Data Cleaning & Train Test Split:"
      ]
    },
    {
      "cell_type": "code",
      "execution_count": null,
      "metadata": {
        "colab": {
          "base_uri": "https://localhost:8080/"
        },
        "id": "TqYpPlro4Lbc",
        "outputId": "d985c37c-221c-4f42-da13-61a213f48a04"
      },
      "outputs": [],
      "source": [
        "df3.isnull().sum()"
      ]
    },
    {
      "cell_type": "code",
      "execution_count": null,
      "metadata": {
        "id": "u3q-zRBL4Ld7"
      },
      "outputs": [],
      "source": [
        "#Filling null values with median\n",
        "df3[['Drainage Area', 'RF', 'FR']] = df3[['Drainage Area', 'RF', 'FR']].fillna(df3[['Drainage Area', 'RF', 'FR']].median())"
      ]
    },
    {
      "cell_type": "code",
      "execution_count": null,
      "metadata": {
        "colab": {
          "base_uri": "https://localhost:8080/"
        },
        "id": "EEc0ODsH4Lgq",
        "outputId": "b9323454-85e9-4a58-acfb-786339e895a9"
      },
      "outputs": [],
      "source": [
        "df3.isnull().sum()"
      ]
    },
    {
      "cell_type": "code",
      "execution_count": null,
      "metadata": {
        "id": "fK_xwl2E4LjM"
      },
      "outputs": [],
      "source": [
        "df3.dropna(inplace=True)"
      ]
    },
    {
      "cell_type": "code",
      "execution_count": null,
      "metadata": {
        "colab": {
          "base_uri": "https://localhost:8080/"
        },
        "id": "56h0GPaL4Ln_",
        "outputId": "e37db464-427b-455b-e7ea-528e128cee30"
      },
      "outputs": [],
      "source": [
        "df3.isnull().sum()"
      ]
    },
    {
      "cell_type": "code",
      "execution_count": null,
      "metadata": {
        "colab": {
          "base_uri": "https://localhost:8080/"
        },
        "id": "BYeufzSZPmFM",
        "outputId": "9e3ca899-e83c-44b3-b4b2-2722c9e285d6"
      },
      "outputs": [],
      "source": [
        "df3.shape"
      ]
    },
    {
      "cell_type": "code",
      "execution_count": null,
      "metadata": {
        "id": "cdVtX6WqGVm9"
      },
      "outputs": [],
      "source": [
        "#features\n",
        "feature = df3\n",
        "feature = feature.drop('Reservoir', axis=1)\n",
        "feature = feature.drop('Mercury', axis=1)"
      ]
    },
    {
      "cell_type": "code",
      "execution_count": null,
      "metadata": {
        "colab": {
          "base_uri": "https://localhost:8080/"
        },
        "id": "i7_c_fLJGVp0",
        "outputId": "d2cfbd16-6323-4a14-c824-2976532c60c7"
      },
      "outputs": [],
      "source": [
        "feature.shape"
      ]
    },
    {
      "cell_type": "code",
      "execution_count": null,
      "metadata": {
        "id": "MWRbFVUwGVr0"
      },
      "outputs": [],
      "source": [
        "#label\n",
        "label = df3['Mercury']"
      ]
    },
    {
      "cell_type": "code",
      "execution_count": null,
      "metadata": {
        "id": "jS3s3xD2GVvW"
      },
      "outputs": [],
      "source": [
        "from sklearn.model_selection import train_test_split\n",
        "train_x, test_x, train_y, test_y = train_test_split(feature, label,test_size=.2,random_state=42)"
      ]
    },
    {
      "cell_type": "code",
      "execution_count": null,
      "metadata": {
        "colab": {
          "base_uri": "https://localhost:8080/"
        },
        "id": "BCNmxj9aGf1F",
        "outputId": "150a5456-da85-4462-8b75-634d1b3f9c0f"
      },
      "outputs": [],
      "source": [
        "train_x.shape, train_y.shape, test_x.shape, test_y.shape"
      ]
    },
    {
      "cell_type": "markdown",
      "metadata": {
        "id": "ol2YdF6qRs4j"
      },
      "source": [
        "# Feature Engineering:"
      ]
    },
    {
      "cell_type": "code",
      "execution_count": null,
      "metadata": {
        "colab": {
          "base_uri": "https://localhost:8080/",
          "height": 287
        },
        "id": "CTIpclOQGf3r",
        "outputId": "ecb8bbb7-c90b-4a3f-c1af-3ba9646adc4b"
      },
      "outputs": [],
      "source": [
        "import statsmodels.api as sm\n",
        "train_x_sm = sm.add_constant(train_x)\n",
        "train_x_sm.head(5)"
      ]
    },
    {
      "cell_type": "code",
      "execution_count": null,
      "metadata": {
        "colab": {
          "base_uri": "https://localhost:8080/",
          "height": 789
        },
        "id": "vcrNd_nrGf5d",
        "outputId": "82feb384-6165-4885-f676-39655e344997"
      },
      "outputs": [],
      "source": [
        "lr = sm.OLS(train_y, train_x).fit()\n",
        "lr.summary()"
      ]
    },
    {
      "cell_type": "markdown",
      "metadata": {
        "id": "O0xCapGwIqjE"
      },
      "source": [
        "Those columns are taken where p_value<0.5"
      ]
    },
    {
      "cell_type": "code",
      "execution_count": null,
      "metadata": {
        "colab": {
          "base_uri": "https://localhost:8080/",
          "height": 267
        },
        "id": "ofCCyrRvPgm8",
        "outputId": "5d0ddd33-a9a8-4a41-f261-380709e6ded0"
      },
      "outputs": [],
      "source": [
        "train_x.head(5)"
      ]
    },
    {
      "cell_type": "code",
      "execution_count": null,
      "metadata": {
        "colab": {
          "base_uri": "https://localhost:8080/"
        },
        "id": "xtsjhxZoPgqZ",
        "outputId": "94521a63-3f9e-4b27-9d2c-1ecba833e6ee"
      },
      "outputs": [],
      "source": [
        "train_y.head()"
      ]
    },
    {
      "cell_type": "markdown",
      "metadata": {
        "id": "jhACgJaHR93p"
      },
      "source": [
        "So, now a new dataset to be extracted from previous dataset with attributes having p value <0.5"
      ]
    },
    {
      "cell_type": "code",
      "execution_count": null,
      "metadata": {
        "id": "F4dOuZGQPwqC"
      },
      "outputs": [],
      "source": [
        "df_main = df3[['Mercury', 'Elevation', 'Max Depth', 'FR', 'RS', 'LONGITUDE_SECONDS']]"
      ]
    },
    {
      "cell_type": "code",
      "execution_count": null,
      "metadata": {
        "colab": {
          "base_uri": "https://localhost:8080/",
          "height": 206
        },
        "id": "oM6DW5K8Uade",
        "outputId": "da4fb288-6af7-4e5c-adbe-db9a2492aa08"
      },
      "outputs": [],
      "source": [
        "df_main.head(5)"
      ]
    },
    {
      "cell_type": "markdown",
      "metadata": {
        "id": "PgAz6u8I_1l_"
      },
      "source": [
        "Again Train Test Split for extracted dataset: df_main"
      ]
    },
    {
      "cell_type": "code",
      "execution_count": null,
      "metadata": {
        "id": "g8sDgJInPwsJ"
      },
      "outputs": [],
      "source": [
        "#features\n",
        "feature = df_main\n",
        "feature = feature.drop('Mercury', axis=1)"
      ]
    },
    {
      "cell_type": "code",
      "execution_count": null,
      "metadata": {
        "colab": {
          "base_uri": "https://localhost:8080/"
        },
        "id": "MfSRe9UAPwtw",
        "outputId": "56476fcb-7030-4cc2-d267-f27c6d7ef8dd"
      },
      "outputs": [],
      "source": [
        "feature.shape"
      ]
    },
    {
      "cell_type": "code",
      "execution_count": null,
      "metadata": {
        "id": "jgkHLcrqPwxM"
      },
      "outputs": [],
      "source": [
        "#labels\n",
        "label = df3['Mercury']"
      ]
    },
    {
      "cell_type": "code",
      "execution_count": null,
      "metadata": {
        "id": "7V5WP_drQMmm"
      },
      "outputs": [],
      "source": [
        "from sklearn.model_selection import train_test_split\n",
        "train_x, test_x, train_y, test_y = train_test_split(feature, label,test_size=.2,random_state=42)"
      ]
    },
    {
      "cell_type": "code",
      "execution_count": null,
      "metadata": {
        "colab": {
          "base_uri": "https://localhost:8080/"
        },
        "id": "hulZyD62QMok",
        "outputId": "21a7a129-7b46-4726-8988-a9b292bdeb5a"
      },
      "outputs": [],
      "source": [
        "train_x.shape, train_y.shape, test_x.shape, test_y.shape"
      ]
    },
    {
      "cell_type": "code",
      "execution_count": null,
      "metadata": {
        "colab": {
          "base_uri": "https://localhost:8080/"
        },
        "id": "qWcatu9PG-cm",
        "outputId": "5feba060-a185-4034-f4e6-24d45ae9ac8d"
      },
      "outputs": [],
      "source": [
        "from sklearn.linear_model import LinearRegression\n",
        "lr = LinearRegression()\n",
        "lr.fit(train_x, train_y)"
      ]
    },
    {
      "cell_type": "code",
      "execution_count": null,
      "metadata": {
        "colab": {
          "base_uri": "https://localhost:8080/"
        },
        "id": "WQc59SSWG-fB",
        "outputId": "276fabd2-d24f-4c49-b3f2-e10bd926416b"
      },
      "outputs": [],
      "source": [
        "lr.score(test_x, test_y)"
      ]
    },
    {
      "cell_type": "code",
      "execution_count": null,
      "metadata": {
        "colab": {
          "base_uri": "https://localhost:8080/"
        },
        "id": "wT7ehkCPG-ib",
        "outputId": "adf8f321-34a9-4b1b-8350-7c97cca0fce0"
      },
      "outputs": [],
      "source": [
        "pred_y = lr.predict(test_x)\n",
        "pred_y"
      ]
    },
    {
      "cell_type": "code",
      "execution_count": null,
      "metadata": {
        "colab": {
          "base_uri": "https://localhost:8080/"
        },
        "id": "UKUJPhhj4LsW",
        "outputId": "6e6afac8-4b01-4fd7-fb78-5883286302df"
      },
      "outputs": [],
      "source": [
        "import math  \n",
        "import sklearn.metrics\n",
        "mse = sklearn.metrics.mean_squared_error(test_y, pred_y)  \n",
        "rmse = math.sqrt(mse)\n",
        "rmse"
      ]
    },
    {
      "cell_type": "markdown",
      "metadata": {
        "id": "2KDuXHbSMeMz"
      },
      "source": [
        "#Visualizaion, Cross Validation & Model Building:"
      ]
    },
    {
      "cell_type": "markdown",
      "metadata": {
        "id": "2jthWfIjKNnx"
      },
      "source": [
        "Most important columns are taken for ploting"
      ]
    },
    {
      "cell_type": "code",
      "execution_count": null,
      "metadata": {
        "colab": {
          "base_uri": "https://localhost:8080/"
        },
        "id": "a80Xcpf2JXPN",
        "outputId": "533009d1-1998-40d8-d5e2-510d0fdab4b4"
      },
      "outputs": [],
      "source": [
        "df_main.columns"
      ]
    },
    {
      "cell_type": "code",
      "execution_count": null,
      "metadata": {
        "colab": {
          "base_uri": "https://localhost:8080/",
          "height": 1000
        },
        "id": "LhjVCuCmJPsn",
        "outputId": "56c3cf70-00f3-47cd-a965-f7d0b4e0cf04"
      },
      "outputs": [],
      "source": [
        "sns.pairplot(df_main)"
      ]
    },
    {
      "cell_type": "code",
      "execution_count": null,
      "metadata": {
        "colab": {
          "base_uri": "https://localhost:8080/",
          "height": 301
        },
        "id": "hM8purgTJPvC",
        "outputId": "d9c58daa-9dd5-4680-9756-84865deb4f8e"
      },
      "outputs": [],
      "source": [
        "plt.scatter(df_main['Mercury'], df_main['Elevation'])\n",
        "plt.plot(df_main['Mercury'], 10 + 1050*df_main['Mercury'], 'r')\n",
        "plt.title('Mercury level vs Elevation')\n",
        "plt.ylabel('Mercury')\n",
        "plt.xlabel('Elevation')\n",
        "plt.show()"
      ]
    },
    {
      "cell_type": "code",
      "execution_count": null,
      "metadata": {
        "colab": {
          "base_uri": "https://localhost:8080/",
          "height": 301
        },
        "id": "DjZZuZ7qJPxz",
        "outputId": "f88497ec-ced2-4592-d882-466c3183c371"
      },
      "outputs": [],
      "source": [
        "plt.scatter(df_main['Mercury'], df_main['Max Depth'])\n",
        "plt.plot(df_main['Mercury'], 10 + 50*df_main['Mercury'], 'r')\n",
        "plt.title('Mercury level vs Max Depth')\n",
        "plt.ylabel('Mercury')\n",
        "plt.xlabel('Max Depth')\n",
        "plt.show()"
      ]
    },
    {
      "cell_type": "code",
      "execution_count": null,
      "metadata": {
        "colab": {
          "base_uri": "https://localhost:8080/",
          "height": 301
        },
        "id": "kLwAdE0ZJxD7",
        "outputId": "e0896776-a4b9-456a-c607-68b771eb46cb"
      },
      "outputs": [],
      "source": [
        "plt.scatter(df_main['Mercury'], df_main['FR'])\n",
        "plt.plot(df_main['Mercury'], 1.8 + 1*df_main['Mercury'], 'r')\n",
        "plt.title('Mercury level vs FR')\n",
        "plt.ylabel('Mercury')\n",
        "plt.xlabel('FR')\n",
        "plt.show()"
      ]
    },
    {
      "cell_type": "code",
      "execution_count": null,
      "metadata": {
        "colab": {
          "base_uri": "https://localhost:8080/",
          "height": 301
        },
        "id": "e4Fbrn5OJxHY",
        "outputId": "1ef4c885-44c6-4b7a-b2c9-a1670886d20b"
      },
      "outputs": [],
      "source": [
        "plt.scatter(df_main['Mercury'], df_main['RS'])\n",
        "plt.plot(df_main['Mercury'], .5 + .001*df_main['Mercury'], 'r')\n",
        "plt.title('Mercury level vs RS')\n",
        "plt.ylabel('Mercury')\n",
        "plt.xlabel('RS')\n",
        "plt.show()"
      ]
    },
    {
      "cell_type": "code",
      "execution_count": null,
      "metadata": {
        "colab": {
          "base_uri": "https://localhost:8080/",
          "height": 301
        },
        "id": "MpPDkKKwJP1M",
        "outputId": "739b131c-d5c3-487c-f12e-53158828b72e"
      },
      "outputs": [],
      "source": [
        "plt.scatter(df_main['Mercury'], df_main['LONGITUDE_SECONDS'])\n",
        "plt.plot(df_main['Mercury'], 8 + 45*df_main['Mercury'], 'r')\n",
        "plt.title('Mercury level vs LONGITUDE_SECONDS')\n",
        "plt.ylabel('Mercury')\n",
        "plt.xlabel('LONGITUDE_SECONDS')\n",
        "plt.show()"
      ]
    },
    {
      "cell_type": "code",
      "execution_count": null,
      "metadata": {
        "colab": {
          "base_uri": "https://localhost:8080/"
        },
        "id": "kUSVheSd4Lu_",
        "outputId": "3ca95b1a-e2e1-44e9-fca3-5da8519616eb"
      },
      "outputs": [],
      "source": [
        "from sklearn.model_selection import KFold\n",
        "from sklearn.model_selection import cross_val_score\n",
        "from numpy import mean, sqrt, absolute\n",
        "import math  \n",
        "import sklearn.metrics\n",
        "\n",
        "lm = LinearRegression()\n",
        "scores = cross_val_score(lm, train_x, train_y, scoring='r2', cv=10)\n",
        "absolute(scores)"
      ]
    },
    {
      "cell_type": "code",
      "execution_count": null,
      "metadata": {
        "colab": {
          "base_uri": "https://localhost:8080/"
        },
        "id": "Y9Wd91x-4LxU",
        "outputId": "13296478-1468-43ae-e2a2-cae426158beb"
      },
      "outputs": [],
      "source": [
        "mean(absolute(scores))"
      ]
    },
    {
      "cell_type": "code",
      "execution_count": null,
      "metadata": {
        "colab": {
          "base_uri": "https://localhost:8080/"
        },
        "id": "oRxrOApV4Lzv",
        "outputId": "5e18c6e0-d470-403d-888a-6cdaa7de429e"
      },
      "outputs": [],
      "source": [
        "from sklearn.metrics import r2_score\n",
        "r2_score(test_y, pred_y)"
      ]
    },
    {
      "cell_type": "code",
      "execution_count": null,
      "metadata": {
        "id": "OfnZgwSE4L2h"
      },
      "outputs": [],
      "source": [
        "lm = LinearRegression()\n",
        "score_1 = cross_val_score(lm, train_x, train_y, scoring='r2', cv=10)\n",
        "score_2 = cross_val_score(lm, train_x, train_y, scoring='neg_root_mean_squared_error', cv=10) "
      ]
    },
    {
      "cell_type": "code",
      "execution_count": null,
      "metadata": {
        "colab": {
          "base_uri": "https://localhost:8080/"
        },
        "id": "VoVX7fNmShs3",
        "outputId": "25462953-945c-4abe-8fa1-1758d420122b"
      },
      "outputs": [],
      "source": [
        "score_1"
      ]
    },
    {
      "cell_type": "code",
      "execution_count": null,
      "metadata": {
        "colab": {
          "base_uri": "https://localhost:8080/"
        },
        "id": "ud1Pay2DShwR",
        "outputId": "2734576c-7276-416d-d3d6-937c0c9b30c2"
      },
      "outputs": [],
      "source": [
        "score_1.mean()"
      ]
    },
    {
      "cell_type": "markdown",
      "metadata": {
        "id": "lDSaGH1gTRZa"
      },
      "source": [
        "R2 score can be negative because of small dataset and noise in the dataset"
      ]
    },
    {
      "cell_type": "code",
      "execution_count": null,
      "metadata": {
        "colab": {
          "base_uri": "https://localhost:8080/"
        },
        "id": "wIS1QfML4L4x",
        "outputId": "5872ec84-2636-4ea1-e3f6-f8005a616769"
      },
      "outputs": [],
      "source": [
        "np.absolute(score_2)"
      ]
    },
    {
      "cell_type": "code",
      "execution_count": null,
      "metadata": {
        "colab": {
          "base_uri": "https://localhost:8080/"
        },
        "id": "YxFI-EiN4L7O",
        "outputId": "ca02f4a3-bd8e-4c71-9615-3b743f0c70f6"
      },
      "outputs": [],
      "source": [
        "np.absolute(score_2.mean())"
      ]
    }
  ],
  "metadata": {
    "colab": {
      "provenance": []
    },
    "kernelspec": {
      "display_name": "Python 3.10.6 64-bit",
      "language": "python",
      "name": "python3"
    },
    "language_info": {
      "codemirror_mode": {
        "name": "ipython",
        "version": 3
      },
      "file_extension": ".py",
      "mimetype": "text/x-python",
      "name": "python",
      "nbconvert_exporter": "python",
      "pygments_lexer": "ipython3",
      "version": "3.10.6"
    },
    "vscode": {
      "interpreter": {
        "hash": "82ad8a63b16339052b1b1e02f4db6cc66764784dbdd55e039ebdd7bf9834d243"
      }
    }
  },
  "nbformat": 4,
  "nbformat_minor": 0
}
